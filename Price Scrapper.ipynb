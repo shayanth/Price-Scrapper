{
 "cells": [
  {
   "cell_type": "markdown",
   "metadata": {},
   "source": [
    "# Import libraries"
   ]
  },
  {
   "cell_type": "code",
   "execution_count": 1,
   "metadata": {},
   "outputs": [],
   "source": [
    "from datetime import datetime,timedelta,date\n",
    "from time import time\n",
    "import requests\n",
    "import pandas as pd\n",
    "from datetime import date,datetime\n",
    "import json\n",
    "from ta.volatility import BollingerBands\n",
    "from ta import add_all_ta_features"
   ]
  },
  {
   "cell_type": "markdown",
   "metadata": {},
   "source": [
    "### Setting start(date0) and end(date1) of time period"
   ]
  },
  {
   "cell_type": "code",
   "execution_count": 3,
   "metadata": {},
   "outputs": [],
   "source": [
    "date0,date1 = datetime(2016,1,1) ,datetime.now() - timedelta(days=1)\n",
    "\n",
    "days = (date1 - date0).days"
   ]
  },
  {
   "cell_type": "markdown",
   "metadata": {},
   "source": [
    "### Creating the DataFrame for getting informations"
   ]
  },
  {
   "cell_type": "code",
   "execution_count": 4,
   "metadata": {},
   "outputs": [],
   "source": [
    "DataFrame = pd.DataFrame(columns = [\"time\",\"low\",\"high\",\"open\",\"close\",\"volume\",\"date\"])"
   ]
  },
  {
   "cell_type": "markdown",
   "metadata": {},
   "source": [
    "### Calculating time based on 300 request limitation on coinbase api"
   ]
  },
  {
   "cell_type": "code",
   "execution_count": 5,
   "metadata": {},
   "outputs": [],
   "source": [
    "dates = []\n",
    "d0 = date0\n",
    "d1 = date1\n",
    "date =[]\n",
    "for i in range(1,(days//300)+ 1):\n",
    "    \n",
    "    d1 = d0 + timedelta(days=300)\n",
    "    date = [d0.strftime(\"%Y-%m-%d\"),d1.strftime(\"%Y-%m-%d\")]\n",
    "    dates.append(date)\n",
    "    d0 = d1\n",
    "\n",
    "d1 = d0 + timedelta(days= days % 300)\n",
    "date = [d0.strftime(\"%Y-%m-%d\"),d1.strftime(\"%Y-%m-%d\")]\n",
    "dates.append(date)"
   ]
  },
  {
   "cell_type": "markdown",
   "metadata": {},
   "source": [
    "## Fetching information from Coinbase API"
   ]
  },
  {
   "cell_type": "code",
   "execution_count": null,
   "metadata": {},
   "outputs": [],
   "source": [
    "#API_MAIN_LINK\n",
    "url = \"https://api.exchange.coinbase.com\"\n",
    "\n",
    "#Currency name to scrap price \n",
    "sym = 'BTC-USD'\n",
    "\n",
    "#start & ending time of period with size of candle\n",
    "for i in dates:\n",
    "    parameters = {\n",
    "        'start':i[0],\n",
    "        'end':i[1],\n",
    "        'granularity':'86400'\n",
    "    }\n",
    "    data = requests.get(f\"{url}/products/{sym}/candles\",params=parameters,headers={'Accepts':'application/json'})\n",
    "    df = pd.DataFrame(data.json(),columns = [\"time\",\"low\",\"high\",\"open\",\"close\",\"volume\"])\n",
    "    df[\"date\"] = pd.to_datetime(df[\"time\"],unit='s')\n",
    "    DataFrame = DataFrame.append(df)\n"
   ]
  },
  {
   "cell_type": "markdown",
   "metadata": {},
   "source": [
    "## Sorting the DataFrame based on Date"
   ]
  },
  {
   "cell_type": "code",
   "execution_count": 6,
   "metadata": {},
   "outputs": [],
   "source": [
    "DataFrame.sort_values(by='date',inplace=True)"
   ]
  },
  {
   "cell_type": "markdown",
   "metadata": {},
   "source": [
    "### Removing duplicates from Dataframe and ReIndexing the Dataframe"
   ]
  },
  {
   "cell_type": "code",
   "execution_count": 7,
   "metadata": {},
   "outputs": [],
   "source": [
    "DataFrame.drop_duplicates(inplace=True)\n",
    "\n",
    "DataFrame.reset_index(inplace=True)"
   ]
  },
  {
   "cell_type": "markdown",
   "metadata": {},
   "source": [
    "### Remove Extra Indexation"
   ]
  },
  {
   "cell_type": "code",
   "execution_count": 8,
   "metadata": {},
   "outputs": [],
   "source": [
    "DataFrame.drop('index',axis=1,inplace=True)"
   ]
  },
  {
   "cell_type": "markdown",
   "metadata": {},
   "source": [
    "## Converting Data Frame into a CSV file"
   ]
  },
  {
   "cell_type": "code",
   "execution_count": null,
   "metadata": {},
   "outputs": [],
   "source": [
    "DataFrame.to_csv('Prices.csv')"
   ]
  }
 ],
 "metadata": {
  "interpreter": {
   "hash": "ece85929c044958f34acfe566bafad543e51b439ee1614a8ddb800e1a953682b"
  },
  "kernelspec": {
   "display_name": "Python 3.10.4 64-bit",
   "language": "python",
   "name": "python3"
  },
  "language_info": {
   "codemirror_mode": {
    "name": "ipython",
    "version": 3
   },
   "file_extension": ".py",
   "mimetype": "text/x-python",
   "name": "python",
   "nbconvert_exporter": "python",
   "pygments_lexer": "ipython3",
   "version": "3.10.4"
  },
  "orig_nbformat": 4
 },
 "nbformat": 4,
 "nbformat_minor": 2
}
